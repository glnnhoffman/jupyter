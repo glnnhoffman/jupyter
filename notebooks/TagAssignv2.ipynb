{
 "cells": [
  {
   "cell_type": "code",
   "execution_count": 1,
   "id": "561d1f23",
   "metadata": {},
   "outputs": [],
   "source": [
    "# Load Packages\n",
    "\n",
    "import numpy as np\n",
    "import pandas as pd\n"
   ]
  },
  {
   "cell_type": "code",
   "execution_count": 109,
   "id": "935efd05",
   "metadata": {},
   "outputs": [],
   "source": [
    "# Import news df and tag df\n",
    "\n",
    "tag_ref = pd.read_excel('tags.xlsx', index_col = 'ID')\n",
    "news = pd.read_excel('subscription.xlsx', index_col = 'id')\n",
    "\n"
   ]
  },
  {
   "cell_type": "code",
   "execution_count": 25,
   "id": "32b70820",
   "metadata": {},
   "outputs": [
    {
     "name": "stdout",
     "output_type": "stream",
     "text": [
      "         tag              string\n",
      "ID                              \n",
      "0   Behavior     Consumer Action\n",
      "1   Behavior             Cooking\n",
      "2   Behavior             Cooling\n",
      "3   Behavior             Heating\n",
      "4   Behavior   Diet Food Choices\n"
     ]
    }
   ],
   "source": [
    "print(tag_ref.head())"
   ]
  },
  {
   "cell_type": "code",
   "execution_count": 93,
   "id": "b10779fa",
   "metadata": {},
   "outputs": [],
   "source": [
    "# Loop through tags and apply based on title and description fields in news\n",
    "# Create tag lists\n",
    "#df1 = tag.groupby('tag')['string'].apply(list).reset_index(name='tag_list')\n",
    "\n",
    "df1 = tag_ref.groupby(['tag'], as_index=False).agg(', '.join)\n"
   ]
  },
  {
   "cell_type": "code",
   "execution_count": 52,
   "id": "0502f690",
   "metadata": {
    "scrolled": true
   },
   "outputs": [
    {
     "name": "stdout",
     "output_type": "stream",
     "text": [
      "            tag                                             string\n",
      "0      Behavior   Consumer Action,  Cooking,  Cooling,  Heating...\n",
      "1     Emissions                                   Carbon,  Methane\n",
      "2   Environment   Ex-Urban,  Forests,  Oceans,  Rural Farmland,...\n",
      "3      Industry   Aluminum,  Apparel,  Cement,  Chemicals,  Gla...\n",
      "4  Intervention   Adapting to Drought,  Adapting to Flooding,  ...\n",
      "5        Policy   Adaptation,  Alternative Finance,  Bans,  Bui...\n",
      "6        Region   APAC (non China/India),  China,  Europe,  Ind...\n",
      "7        Sector   Buildings,  Energy,  Food,  Industries,  Mobi...\n",
      "8        Status                                 Do,  Scale,  Think\n",
      "9    Technology   Air Quality Monitoring,  Carbon Capture Engin...\n"
     ]
    }
   ],
   "source": [
    "print(df1)"
   ]
  },
  {
   "cell_type": "code",
   "execution_count": 150,
   "id": "98f5c601",
   "metadata": {
    "collapsed": true
   },
   "outputs": [
    {
     "name": "stdout",
     "output_type": "stream",
     "text": [
      "[' Air Quality Monitoring', ' Carbon Capture Engineered', ' Carbon Capture nature-based', ' Distributed Grid', ' Electric Grid', ' Emission reduction technologies', ' Energy Efficiency - Building Retrofits', ' Energy Efficiency - New Building', ' Energy Efficiency - Other', ' Energy Storage', ' Biomass', ' Coal', ' Cogeneration', ' Gas', ' Hydro', ' Hydrogen', ' Nuclear', ' Solar Concentrated', ' Solar PV', ' Solar Thermal', ' Wind', ' Farm soils', ' Fertilizers', ' Food Production', ' Biofuels', ' Carbon-neutral fuels', ' Green Steel', ' Heat Pumps', ' Micro/Mini Grid', ' Mining', ' Supply Chain Emissions', ' Sustainable Aviation Fuel', ' Sustainable Freight', ' Aviation Planes', ' Buses', ' Cars', ' Electric Vehicles', ' Ships', ' Trucks', ' Trucking Electricification']\n",
      "        type           source                                           url  \\\n",
      "id                                                                            \n",
      "0    journal         Springer  http://dx.doi.org/10.1007/s00382-022-06590-w   \n",
      "1    journal         Springer  http://dx.doi.org/10.1007/s00501-022-01303-6   \n",
      "2    journal         Springer  http://dx.doi.org/10.1007/s10040-022-02575-5   \n",
      "3    journal         Springer  http://dx.doi.org/10.1186/s12889-022-14683-8   \n",
      "4    journal         Springer  http://dx.doi.org/10.1186/s12889-022-14682-9   \n",
      "..       ...              ...                                           ...   \n",
      "146     news  Financial Times                                           NaN   \n",
      "147     news  Financial Times                                           NaN   \n",
      "148     news  Financial Times                                           NaN   \n",
      "149     news  Financial Times                                           NaN   \n",
      "150     news  Financial Times                                           NaN   \n",
      "\n",
      "                                                 title  \\\n",
      "id                                                       \n",
      "0    High resolution projections for extreme temper...   \n",
      "1    Zukunft der mineralischen Rohstoffbranche: Her...   \n",
      "2    Challenges and approaches for management of se...   \n",
      "3    Appealing dish names to nudge diners to more s...   \n",
      "4    Stressors related to the Covid-19 pandemic, cl...   \n",
      "..                                                 ...   \n",
      "146  Indonesian NGOs launch legal action as dispute...   \n",
      "147  India’s cut-throat aviation sector prepares fo...   \n",
      "148                        FT Crossword: Number 17,267   \n",
      "149  Buckingham Palace aide resigns following racis...   \n",
      "150  Trump suffers legal defeat over probe into sei...   \n",
      "\n",
      "                                              creators  \\\n",
      "id                                                       \n",
      "0    [{'ORCID': '0000-0002-4170-3840', 'creator': '...   \n",
      "1    [{'creator': 'Eder, Johann'}, {'creator': 'Gra...   \n",
      "2    [{'ORCID': '0000-0001-5208-3475', 'creator': '...   \n",
      "3    [{'creator': 'Gavrieli, Anna'}, {'creator': 'A...   \n",
      "4    [{'creator': 'Weierstall-Pust, Roland'}, {'cre...   \n",
      "..                                                 ...   \n",
      "146                                                NaN   \n",
      "147                                                NaN   \n",
      "148                                                NaN   \n",
      "149                                                NaN   \n",
      "150                                                NaN   \n",
      "\n",
      "                               publicationName                         doi  \\\n",
      "id                                                                           \n",
      "0                             Climate Dynamics  10.1007/s00382-022-06590-w   \n",
      "1    BHM Berg- und Hüttenmännische Monatshefte  10.1007/s00501-022-01303-6   \n",
      "2                         Hydrogeology Journal  10.1007/s10040-022-02575-5   \n",
      "3                            BMC Public Health  10.1186/s12889-022-14683-8   \n",
      "4                            BMC Public Health  10.1186/s12889-022-14682-9   \n",
      "..                                         ...                         ...   \n",
      "146                                        NaN                         NaN   \n",
      "147                                        NaN                         NaN   \n",
      "148                                        NaN                         NaN   \n",
      "149                                        NaN                         NaN   \n",
      "150                                        NaN                         NaN   \n",
      "\n",
      "          publisher publicationDate publicationType  journalId  \\\n",
      "id                                                               \n",
      "0          Springer      2022-11-30         Journal      382.0   \n",
      "1          Springer      2022-11-30         Journal      501.0   \n",
      "2          Springer      2022-11-30         Journal    10040.0   \n",
      "3    BioMed Central      2022-11-30         Journal    12889.0   \n",
      "4    BioMed Central      2022-11-30         Journal    12889.0   \n",
      "..              ...             ...             ...        ...   \n",
      "146             NaN             NaN             NaN        NaN   \n",
      "147             NaN             NaN             NaN        NaN   \n",
      "148             NaN             NaN             NaN        NaN   \n",
      "149             NaN             NaN             NaN        NaN   \n",
      "150             NaN             NaN             NaN        NaN   \n",
      "\n",
      "                                           description    tag  \n",
      "id                                                             \n",
      "0    The present study investigated future temperat...  other  \n",
      "1    Der Bedarf an mineralischen Rohstoffen ist mit...  other  \n",
      "2    Coastal aquifers provide water for over one bi...  other  \n",
      "3    Background Promoting plant-rich diets, i.e., d...  other  \n",
      "4    Background Climate change, the Covid-19 pandem...  other  \n",
      "..                                                 ...    ...  \n",
      "146  Appeals court says appointment of special mast...  other  \n",
      "147  Announcement comes as rapper has stirred more ...  other  \n",
      "148  Latest in string of coalition pacts with figur...  other  \n",
      "149  Social media platform has faced a wave of big ...  other  \n",
      "150  Sterling, yen and euro jump after duo of repor...  other  \n",
      "\n",
      "[151 rows x 13 columns]\n"
     ]
    },
    {
     "name": "stderr",
     "output_type": "stream",
     "text": [
      "C:\\Users\\ghoffman\\AppData\\Local\\Temp\\ipykernel_19280\\3495259645.py:4: SettingWithCopyWarning: \n",
      "A value is trying to be set on a copy of a slice from a DataFrame\n",
      "\n",
      "See the caveats in the documentation: https://pandas.pydata.org/pandas-docs/stable/user_guide/indexing.html#returning-a-view-versus-a-copy\n",
      "  values.rename(columns={'string':'phrase'}, inplace=True)\n"
     ]
    }
   ],
   "source": [
    "### THIS ONE IS WORKING, I THINK#### Now just need to run it for each tag group\n",
    "\n",
    "values = tag_ref[tag_ref['tag'] == 'Technology']\n",
    "values.rename(columns={'string':'phrase'}, inplace=True)\n",
    "\n",
    "v = list(values['phrase'])\n",
    "print(v)\n",
    "\n",
    "\n",
    "conditions = list(map(news['description'].str.contains, v))\n",
    "\n",
    "news['tag'] = np.select(conditions, v, 'other')\n",
    "\n",
    "print(news)\n",
    "\n",
    "#news['tag'] = news.description.str.lower().str.contains(v['phrase'])\n",
    "\n"
   ]
  },
  {
   "cell_type": "code",
   "execution_count": 151,
   "id": "5f44c386",
   "metadata": {},
   "outputs": [
    {
     "data": {
      "text/plain": [
       "array(['other', ' Gas', ' Coal'], dtype=object)"
      ]
     },
     "execution_count": 151,
     "metadata": {},
     "output_type": "execute_result"
    }
   ],
   "source": [
    "pd.unique(news['tag'])"
   ]
  }
 ],
 "metadata": {
  "kernelspec": {
   "display_name": "Python 3 (ipykernel)",
   "language": "python",
   "name": "python3"
  },
  "language_info": {
   "codemirror_mode": {
    "name": "ipython",
    "version": 3
   },
   "file_extension": ".py",
   "mimetype": "text/x-python",
   "name": "python",
   "nbconvert_exporter": "python",
   "pygments_lexer": "ipython3",
   "version": "3.9.13"
  }
 },
 "nbformat": 4,
 "nbformat_minor": 5
}
